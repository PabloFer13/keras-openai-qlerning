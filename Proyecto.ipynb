{
 "cells": [
  {
   "cell_type": "markdown",
   "metadata": {},
   "source": [
    "# Q-Learning y Deep Q-Learning."
   ]
  },
  {
   "cell_type": "markdown",
   "metadata": {},
   "source": [
    "- ### Pablo Melendez\n",
    "- ### Hector Magana"
   ]
  },
  {
   "cell_type": "code",
   "execution_count": null,
   "metadata": {},
   "outputs": [],
   "source": [
    "import numpy as np\n",
    "import gym\n",
    "\n",
    "from keras.models import Sequential\n",
    "from keras.layers import Dense, Activation, Flatten\n",
    "from keras.optimizers import Adam\n",
    "\n",
    "from rl.agents.cem import CEMAgent\n",
    "from rl.memory import EpisodeParameterMemory\n",
    "\n",
    "\n",
    "def make_model(name, isSimple = True, mem_limit = 1000, batch = 50, warmup = 2000, train = 50, steps = 100000):\n",
    "    env = gym.make(name)\n",
    "    np.random.seed(123)\n",
    "    env.seed(123)\n",
    "\n",
    "    nb_actions = env.action_space.n\n",
    "    obs_dim = env.observation_space.shape[0]\n",
    "    model = Sequential()\n",
    "\n",
    "    if isSimple:\n",
    "        model.add(Flatten(input_shape=(obs_dim,))\n",
    "        model.add(Dense(nb_actions))\n",
    "        model.add(Activation('softmax'))\n",
    "    else:\n",
    "        model.add(Flatten(input_shape=(1,) + env.observation_space.shape))\n",
    "        model.add(Dense(16))\n",
    "        model.add(Activation('relu'))\n",
    "        model.add(Dense(16))\n",
    "        model.add(Activation('relu'))\n",
    "        model.add(Dense(16))\n",
    "        model.add(Activation('relu'))\n",
    "        model.add(Dense(nb_actions))\n",
    "        model.add(Activation('softmax'))\n",
    "\n",
    "    print(model.summary())\n",
    "\n",
    "\n",
    "    memory = EpisodeParameterMemory(limit=mem_limit, window_length=1)\n",
    "\n",
    "    cem = CEMAgent(model=model, nb_actions=nb_actions, memory=memory,\n",
    "                   batch_size=batch, nb_steps_warmup=warmup, train_interval=train, elite_frac=0.05)\n",
    "    cem.compile()\n",
    "\n",
    "    cem.fit(env, nb_steps=steps, visualize=False, verbose=2)\n",
    "\n",
    "    cem.save_weights('cem_{}_params.h5f'.format(name), overwrite=True)\n",
    "\n",
    "    cem.test(env, nb_episodes=5, visualize=True)"
   ]
  }
 ],
 "metadata": {
  "kernelspec": {
   "display_name": "Python 3",
   "language": "python",
   "name": "python3"
  },
  "language_info": {
   "codemirror_mode": {
    "name": "ipython",
    "version": 3
   },
   "file_extension": ".py",
   "mimetype": "text/x-python",
   "name": "python",
   "nbconvert_exporter": "python",
   "pygments_lexer": "ipython3",
   "version": "3.7.3"
  }
 },
 "nbformat": 4,
 "nbformat_minor": 2
}
